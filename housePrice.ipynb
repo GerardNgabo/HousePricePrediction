{
  "nbformat": 4,
  "nbformat_minor": 0,
  "metadata": {
    "colab": {
      "name": "housePrice.ipynb",
      "provenance": [],
      "collapsed_sections": [],
      "include_colab_link": true
    },
    "kernelspec": {
      "name": "python3",
      "display_name": "Python 3"
    }
  },
  "cells": [
    {
      "cell_type": "markdown",
      "metadata": {
        "id": "view-in-github",
        "colab_type": "text"
      },
      "source": [
        "<a href=\"https://colab.research.google.com/github/GerardNgabo/HousePricePrediction/blob/master/housePrice.ipynb\" target=\"_parent\"><img src=\"https://colab.research.google.com/assets/colab-badge.svg\" alt=\"Open In Colab\"/></a>"
      ]
    },
    {
      "cell_type": "code",
      "metadata": {
        "id": "rmsJmqhkZuM1",
        "colab_type": "code",
        "colab": {
          "base_uri": "https://localhost:8080/",
          "height": 122
        },
        "outputId": "e3db0675-ff74-4376-a1d0-a5224e670775"
      },
      "source": [
        "from google import colab\n",
        "colab.drive.mount('/content/gdrive')"
      ],
      "execution_count": null,
      "outputs": [
        {
          "output_type": "stream",
          "text": [
            "Go to this URL in a browser: https://accounts.google.com/o/oauth2/auth?client_id=947318989803-6bn6qk8qdgf4n4g3pfee6491hc0brc4i.apps.googleusercontent.com&redirect_uri=urn%3aietf%3awg%3aoauth%3a2.0%3aoob&scope=email%20https%3a%2f%2fwww.googleapis.com%2fauth%2fdocs.test%20https%3a%2f%2fwww.googleapis.com%2fauth%2fdrive%20https%3a%2f%2fwww.googleapis.com%2fauth%2fdrive.photos.readonly%20https%3a%2f%2fwww.googleapis.com%2fauth%2fpeopleapi.readonly&response_type=code\n",
            "\n",
            "Enter your authorization code:\n",
            "··········\n",
            "Mounted at /content/gdrive\n"
          ],
          "name": "stdout"
        }
      ]
    },
    {
      "cell_type": "code",
      "metadata": {
        "id": "lFwensAKvSAV",
        "colab_type": "code",
        "colab": {
          "base_uri": "https://localhost:8080/",
          "height": 34
        },
        "outputId": "daeeb105-8ae8-4985-a245-7597e9b4b26c"
      },
      "source": [
        "import os \n",
        "\n",
        "path = '/content/gdrive/My Drive/colab/' # specify your directory where you want to create a folder for storing data.\n",
        "os.chdir(path) # change directory.\n",
        "\n",
        "new_folder_name='prices' # create a folder for storing data.\n",
        "\n",
        "if not os.path.exists(new_folder_name): # create a folder for storing data if it does not exist.\n",
        "    os.mkdir(new_folder_name) # make a directory\n",
        "\n",
        "os.chdir(path + '/' + new_folder_name) # change directory\n",
        "\n",
        "print(\"Current directory:\", os.getcwd())"
      ],
      "execution_count": null,
      "outputs": [
        {
          "output_type": "stream",
          "text": [
            "Current directory: /content/gdrive/My Drive/colab/prices\n"
          ],
          "name": "stdout"
        }
      ]
    },
    {
      "cell_type": "code",
      "metadata": {
        "id": "sbXPxHs5vhmi",
        "colab_type": "code",
        "colab": {
          "resources": {
            "http://localhost:8080/nbextensions/google.colab/files.js": {
              "data": "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",
              "ok": true,
              "headers": [
                [
                  "content-type",
                  "application/javascript"
                ]
              ],
              "status": 200,
              "status_text": ""
            }
          },
          "base_uri": "https://localhost:8080/",
          "height": 55
        },
        "outputId": "800d771c-ccc8-4c39-e002-29c07d6807ec"
      },
      "source": [
        "from google.colab import files\n",
        "files.upload() # upload kaggle.json"
      ],
      "execution_count": null,
      "outputs": [
        {
          "output_type": "display_data",
          "data": {
            "text/html": [
              "\n",
              "     <input type=\"file\" id=\"files-6156b159-0369-4286-b837-bb60b41bd601\" name=\"files[]\" multiple disabled\n",
              "        style=\"border:none\" />\n",
              "     <output id=\"result-6156b159-0369-4286-b837-bb60b41bd601\">\n",
              "      Upload widget is only available when the cell has been executed in the\n",
              "      current browser session. Please rerun this cell to enable.\n",
              "      </output>\n",
              "      <script src=\"/nbextensions/google.colab/files.js\"></script> "
            ],
            "text/plain": [
              "<IPython.core.display.HTML object>"
            ]
          },
          "metadata": {
            "tags": []
          }
        },
        {
          "output_type": "execute_result",
          "data": {
            "text/plain": [
              "{}"
            ]
          },
          "metadata": {
            "tags": []
          },
          "execution_count": 10
        }
      ]
    },
    {
      "cell_type": "code",
      "metadata": {
        "id": "zIb7_z9Ov6Qb",
        "colab_type": "code",
        "colab": {
          "base_uri": "https://localhost:8080/",
          "height": 221
        },
        "outputId": "c282302e-fe56-4be9-e095-7fc436168383"
      },
      "source": [
        "!pip install kaggle\n",
        "from googleapiclient.discovery import build\n",
        "import io, os\n",
        "from googleapiclient.http import MediaIoBaseDownload\n",
        "from google.colab import auth\n",
        "auth.authenticate_user()\n",
        "drive_service = build('drive', 'v3')\n",
        "results = drive_service.files().list(\n",
        "        q=\"name = 'kaggle.json'\", fields=\"files(id)\").execute()\n",
        "kaggle_api_key = results.get('files', [])\n",
        "filename = \"/root/.kaggle/kaggle.json\"  \n",
        "os.makedirs(os.path.dirname(filename), exist_ok=True)\n",
        "request = drive_service.files().get_media(fileId=kaggle_api_key[0]['id'])\n",
        "fh = io.FileIO(filename, 'wb')\n",
        "downloader = MediaIoBaseDownload(fh, request)\n",
        "done = False\n",
        "while done is False:\n",
        "    status, done = downloader.next_chunk()\n",
        "    print(\"Download %d%%.\" % int(status.progress() * 100))\n",
        "os.chmod(filename, 600)"
      ],
      "execution_count": null,
      "outputs": [
        {
          "output_type": "stream",
          "text": [
            "Requirement already satisfied: kaggle in /usr/local/lib/python3.6/dist-packages (1.5.6)\n",
            "Requirement already satisfied: tqdm in /usr/local/lib/python3.6/dist-packages (from kaggle) (4.41.1)\n",
            "Requirement already satisfied: six>=1.10 in /usr/local/lib/python3.6/dist-packages (from kaggle) (1.15.0)\n",
            "Requirement already satisfied: python-dateutil in /usr/local/lib/python3.6/dist-packages (from kaggle) (2.8.1)\n",
            "Requirement already satisfied: urllib3<1.25,>=1.21.1 in /usr/local/lib/python3.6/dist-packages (from kaggle) (1.24.3)\n",
            "Requirement already satisfied: certifi in /usr/local/lib/python3.6/dist-packages (from kaggle) (2020.6.20)\n",
            "Requirement already satisfied: python-slugify in /usr/local/lib/python3.6/dist-packages (from kaggle) (4.0.1)\n",
            "Requirement already satisfied: requests in /usr/local/lib/python3.6/dist-packages (from kaggle) (2.23.0)\n",
            "Requirement already satisfied: text-unidecode>=1.3 in /usr/local/lib/python3.6/dist-packages (from python-slugify->kaggle) (1.3)\n",
            "Requirement already satisfied: chardet<4,>=3.0.2 in /usr/local/lib/python3.6/dist-packages (from requests->kaggle) (3.0.4)\n",
            "Requirement already satisfied: idna<3,>=2.5 in /usr/local/lib/python3.6/dist-packages (from requests->kaggle) (2.10)\n",
            "Download 100%.\n"
          ],
          "name": "stdout"
        }
      ]
    },
    {
      "cell_type": "code",
      "metadata": {
        "id": "b_e9l3wMwBxb",
        "colab_type": "code",
        "colab": {
          "base_uri": "https://localhost:8080/",
          "height": 34
        },
        "outputId": "d0ae5230-ea59-48cb-d2c4-18df7a092ca8"
      },
      "source": [
        "!kaggle datasets download camnugent/california-housing-prices"
      ],
      "execution_count": null,
      "outputs": [
        {
          "output_type": "stream",
          "text": [
            "california-housing-prices.zip: Skipping, found more recently modified local copy (use --force to force download)\n"
          ],
          "name": "stdout"
        }
      ]
    },
    {
      "cell_type": "code",
      "metadata": {
        "id": "MuZf9useyeqM",
        "colab_type": "code",
        "colab": {}
      },
      "source": [
        "import glob\n",
        "import zipfile\n",
        "zipfiles = glob.glob(os.getcwd() + '/*.zip')\n",
        "zipfiles\n",
        "\n",
        "\n",
        "local_zip =zipfiles[0] # specify where train.zip is\n",
        "zip_ref = zipfile.ZipFile(local_zip, 'r')  # create a ZipFile object\n",
        "zip_ref.extractall() # create a folder in the current directory and get all data\n",
        "zip_ref.close() # close"
      ],
      "execution_count": null,
      "outputs": []
    },
    {
      "cell_type": "code",
      "metadata": {
        "id": "8QtwPGvdxuYY",
        "colab_type": "code",
        "colab": {
          "base_uri": "https://localhost:8080/",
          "height": 34
        },
        "outputId": "dd8faeb4-0595-4a80-f142-3259fd257471"
      },
      "source": [
        "!ls '/content/gdrive/My Drive/colab/prices'\n",
        "base_folder = '/content/gdrive/My Drive/colab/prices'"
      ],
      "execution_count": null,
      "outputs": [
        {
          "output_type": "stream",
          "text": [
            "california-housing-prices.zip  housing.csv  kaggle.json\n"
          ],
          "name": "stdout"
        }
      ]
    },
    {
      "cell_type": "code",
      "metadata": {
        "id": "j_godMHiykbh",
        "colab_type": "code",
        "colab": {}
      },
      "source": [
        "# Imported Libraries\n",
        "\n",
        "import numpy as np # linear algebra\n",
        "import pandas as pd # data processing, CSV file I/O (e.g. pd.read_csv)\n",
        "import matplotlib.pyplot as plt\n",
        "import seaborn as sns\n",
        "from sklearn.manifold import TSNE\n",
        "import matplotlib.patches as mpatches\n",
        "import time"
      ],
      "execution_count": null,
      "outputs": []
    },
    {
      "cell_type": "code",
      "metadata": {
        "id": "yeFfgoIgy15I",
        "colab_type": "code",
        "colab": {
          "base_uri": "https://localhost:8080/",
          "height": 419
        },
        "outputId": "d979ff04-42a1-457d-f5ba-9b1340f66845"
      },
      "source": [
        "df = pd.read_csv(base_folder+'/housing.csv')\n",
        "df.head()\n",
        "df.drop([0])"
      ],
      "execution_count": 31,
      "outputs": [
        {
          "output_type": "execute_result",
          "data": {
            "text/html": [
              "<div>\n",
              "<style scoped>\n",
              "    .dataframe tbody tr th:only-of-type {\n",
              "        vertical-align: middle;\n",
              "    }\n",
              "\n",
              "    .dataframe tbody tr th {\n",
              "        vertical-align: top;\n",
              "    }\n",
              "\n",
              "    .dataframe thead th {\n",
              "        text-align: right;\n",
              "    }\n",
              "</style>\n",
              "<table border=\"1\" class=\"dataframe\">\n",
              "  <thead>\n",
              "    <tr style=\"text-align: right;\">\n",
              "      <th></th>\n",
              "      <th>longitude</th>\n",
              "      <th>latitude</th>\n",
              "      <th>housing_median_age</th>\n",
              "      <th>total_rooms</th>\n",
              "      <th>total_bedrooms</th>\n",
              "      <th>population</th>\n",
              "      <th>households</th>\n",
              "      <th>median_income</th>\n",
              "      <th>median_house_value</th>\n",
              "      <th>ocean_proximity</th>\n",
              "    </tr>\n",
              "  </thead>\n",
              "  <tbody>\n",
              "    <tr>\n",
              "      <th>1</th>\n",
              "      <td>-122.22</td>\n",
              "      <td>37.86</td>\n",
              "      <td>21.0</td>\n",
              "      <td>7099.0</td>\n",
              "      <td>1106.0</td>\n",
              "      <td>2401.0</td>\n",
              "      <td>1138.0</td>\n",
              "      <td>8.3014</td>\n",
              "      <td>358500.0</td>\n",
              "      <td>NEAR BAY</td>\n",
              "    </tr>\n",
              "    <tr>\n",
              "      <th>2</th>\n",
              "      <td>-122.24</td>\n",
              "      <td>37.85</td>\n",
              "      <td>52.0</td>\n",
              "      <td>1467.0</td>\n",
              "      <td>190.0</td>\n",
              "      <td>496.0</td>\n",
              "      <td>177.0</td>\n",
              "      <td>7.2574</td>\n",
              "      <td>352100.0</td>\n",
              "      <td>NEAR BAY</td>\n",
              "    </tr>\n",
              "    <tr>\n",
              "      <th>3</th>\n",
              "      <td>-122.25</td>\n",
              "      <td>37.85</td>\n",
              "      <td>52.0</td>\n",
              "      <td>1274.0</td>\n",
              "      <td>235.0</td>\n",
              "      <td>558.0</td>\n",
              "      <td>219.0</td>\n",
              "      <td>5.6431</td>\n",
              "      <td>341300.0</td>\n",
              "      <td>NEAR BAY</td>\n",
              "    </tr>\n",
              "    <tr>\n",
              "      <th>4</th>\n",
              "      <td>-122.25</td>\n",
              "      <td>37.85</td>\n",
              "      <td>52.0</td>\n",
              "      <td>1627.0</td>\n",
              "      <td>280.0</td>\n",
              "      <td>565.0</td>\n",
              "      <td>259.0</td>\n",
              "      <td>3.8462</td>\n",
              "      <td>342200.0</td>\n",
              "      <td>NEAR BAY</td>\n",
              "    </tr>\n",
              "    <tr>\n",
              "      <th>5</th>\n",
              "      <td>-122.25</td>\n",
              "      <td>37.85</td>\n",
              "      <td>52.0</td>\n",
              "      <td>919.0</td>\n",
              "      <td>213.0</td>\n",
              "      <td>413.0</td>\n",
              "      <td>193.0</td>\n",
              "      <td>4.0368</td>\n",
              "      <td>269700.0</td>\n",
              "      <td>NEAR BAY</td>\n",
              "    </tr>\n",
              "    <tr>\n",
              "      <th>...</th>\n",
              "      <td>...</td>\n",
              "      <td>...</td>\n",
              "      <td>...</td>\n",
              "      <td>...</td>\n",
              "      <td>...</td>\n",
              "      <td>...</td>\n",
              "      <td>...</td>\n",
              "      <td>...</td>\n",
              "      <td>...</td>\n",
              "      <td>...</td>\n",
              "    </tr>\n",
              "    <tr>\n",
              "      <th>20635</th>\n",
              "      <td>-121.09</td>\n",
              "      <td>39.48</td>\n",
              "      <td>25.0</td>\n",
              "      <td>1665.0</td>\n",
              "      <td>374.0</td>\n",
              "      <td>845.0</td>\n",
              "      <td>330.0</td>\n",
              "      <td>1.5603</td>\n",
              "      <td>78100.0</td>\n",
              "      <td>INLAND</td>\n",
              "    </tr>\n",
              "    <tr>\n",
              "      <th>20636</th>\n",
              "      <td>-121.21</td>\n",
              "      <td>39.49</td>\n",
              "      <td>18.0</td>\n",
              "      <td>697.0</td>\n",
              "      <td>150.0</td>\n",
              "      <td>356.0</td>\n",
              "      <td>114.0</td>\n",
              "      <td>2.5568</td>\n",
              "      <td>77100.0</td>\n",
              "      <td>INLAND</td>\n",
              "    </tr>\n",
              "    <tr>\n",
              "      <th>20637</th>\n",
              "      <td>-121.22</td>\n",
              "      <td>39.43</td>\n",
              "      <td>17.0</td>\n",
              "      <td>2254.0</td>\n",
              "      <td>485.0</td>\n",
              "      <td>1007.0</td>\n",
              "      <td>433.0</td>\n",
              "      <td>1.7000</td>\n",
              "      <td>92300.0</td>\n",
              "      <td>INLAND</td>\n",
              "    </tr>\n",
              "    <tr>\n",
              "      <th>20638</th>\n",
              "      <td>-121.32</td>\n",
              "      <td>39.43</td>\n",
              "      <td>18.0</td>\n",
              "      <td>1860.0</td>\n",
              "      <td>409.0</td>\n",
              "      <td>741.0</td>\n",
              "      <td>349.0</td>\n",
              "      <td>1.8672</td>\n",
              "      <td>84700.0</td>\n",
              "      <td>INLAND</td>\n",
              "    </tr>\n",
              "    <tr>\n",
              "      <th>20639</th>\n",
              "      <td>-121.24</td>\n",
              "      <td>39.37</td>\n",
              "      <td>16.0</td>\n",
              "      <td>2785.0</td>\n",
              "      <td>616.0</td>\n",
              "      <td>1387.0</td>\n",
              "      <td>530.0</td>\n",
              "      <td>2.3886</td>\n",
              "      <td>89400.0</td>\n",
              "      <td>INLAND</td>\n",
              "    </tr>\n",
              "  </tbody>\n",
              "</table>\n",
              "<p>20639 rows × 10 columns</p>\n",
              "</div>"
            ],
            "text/plain": [
              "       longitude  latitude  ...  median_house_value  ocean_proximity\n",
              "1        -122.22     37.86  ...            358500.0         NEAR BAY\n",
              "2        -122.24     37.85  ...            352100.0         NEAR BAY\n",
              "3        -122.25     37.85  ...            341300.0         NEAR BAY\n",
              "4        -122.25     37.85  ...            342200.0         NEAR BAY\n",
              "5        -122.25     37.85  ...            269700.0         NEAR BAY\n",
              "...          ...       ...  ...                 ...              ...\n",
              "20635    -121.09     39.48  ...             78100.0           INLAND\n",
              "20636    -121.21     39.49  ...             77100.0           INLAND\n",
              "20637    -121.22     39.43  ...             92300.0           INLAND\n",
              "20638    -121.32     39.43  ...             84700.0           INLAND\n",
              "20639    -121.24     39.37  ...             89400.0           INLAND\n",
              "\n",
              "[20639 rows x 10 columns]"
            ]
          },
          "metadata": {
            "tags": []
          },
          "execution_count": 31
        }
      ]
    },
    {
      "cell_type": "markdown",
      "metadata": {
        "id": "EsT9WdnqBDfj",
        "colab_type": "text"
      },
      "source": [
        "**Exploring the data**"
      ]
    },
    {
      "cell_type": "code",
      "metadata": {
        "id": "SRm6wHD2y9Ni",
        "colab_type": "code",
        "colab": {
          "base_uri": "https://localhost:8080/",
          "height": 256
        },
        "outputId": "e74e3648-f4e0-451f-e9ba-5094fc719ed4"
      },
      "source": [
        "# plot the houses' location\n",
        "ax1 = df.plot.scatter(x='longitude',y='latitude',c = 'median_house_value',colormap='plasma')"
      ],
      "execution_count": null,
      "outputs": [
        {
          "output_type": "display_data",
          "data": {
            "image/png": "[encoded data removed]",
            "text/plain": [
              "<Figure size 432x288 with 2 Axes>"
            ]
          },
          "metadata": {
            "tags": [],
            "needs_background": "light"
          }
        }
      ]
    },
    {
      "cell_type": "code",
      "metadata": {
        "id": "jflCt4aB8LvX",
        "colab_type": "code",
        "colab": {
          "base_uri": "https://localhost:8080/",
          "height": 338
        },
        "outputId": "fcab4607-cd5d-4e97-8eea-7e8e27a7d0f0"
      },
      "source": [
        "# plot ocean proximity\n",
        "# df['ocean_proximity']\n",
        "\n",
        "df['ocean_proximity'].value_counts().plot(kind='bar')"
      ],
      "execution_count": null,
      "outputs": [
        {
          "output_type": "execute_result",
          "data": {
            "text/plain": [
              "<matplotlib.axes._subplots.AxesSubplot at 0x7f77102fa7f0>"
            ]
          },
          "metadata": {
            "tags": []
          },
          "execution_count": 19
        },
        {
          "output_type": "display_data",
          "data": {
            "image/png": "[encoded data removed]",
            "text/plain": [
              "<Figure size 432x288 with 1 Axes>"
            ]
          },
          "metadata": {
            "tags": [],
            "needs_background": "light"
          }
        }
      ]
    },
    {
      "cell_type": "code",
      "metadata": {
        "id": "nU4d2WHbINbI",
        "colab_type": "code",
        "colab": {}
      },
      "source": [
        "from sklearn import preprocessing\n",
        "\n",
        "le = preprocessing.LabelEncoder()\n",
        "# le = preprocessing.OneHotEncoder()\n",
        "# op = pd.get_dummies(df.ocean_proximity)\n",
        "\n",
        "df['ocean_proximity'] = le.fit_transform(df['ocean_proximity'])\n"
      ],
      "execution_count": null,
      "outputs": []
    },
    {
      "cell_type": "code",
      "metadata": {
        "id": "a1VuNr4iC_ne",
        "colab_type": "code",
        "colab": {
          "base_uri": "https://localhost:8080/",
          "height": 170
        },
        "outputId": "a21f944b-90dc-4d95-9022-9c0ee0dcd6d0"
      },
      "source": [
        "#Exercise- Explore the other variables by plotting them\n",
        "df['median_house_value'].describe()"
      ],
      "execution_count": null,
      "outputs": [
        {
          "output_type": "execute_result",
          "data": {
            "text/plain": [
              "count     20640.000000\n",
              "mean     206855.816909\n",
              "std      115395.615874\n",
              "min       14999.000000\n",
              "25%      119600.000000\n",
              "50%      179700.000000\n",
              "75%      264725.000000\n",
              "max      500001.000000\n",
              "Name: median_house_value, dtype: float64"
            ]
          },
          "metadata": {
            "tags": []
          },
          "execution_count": 21
        }
      ]
    },
    {
      "cell_type": "code",
      "metadata": {
        "id": "_TKyutzOBhyE",
        "colab_type": "code",
        "colab": {
          "base_uri": "https://localhost:8080/",
          "height": 250
        },
        "outputId": "321950b9-93f6-4dd0-8c29-ba4f12f0b3bb"
      },
      "source": [
        "#looking at correlation of the different variables\n",
        "corr = df.corr()\n",
        "corr.style.background_gradient(cmap='coolwarm')"
      ],
      "execution_count": null,
      "outputs": [
        {
          "output_type": "execute_result",
          "data": {
            "text/html": [
              "<style  type=\"text/css\" >\n",
              "    #T_f0e08730_e8f6_11ea_8dcc_0242ac1c0002row0_col0 {\n",
              "            background-color:  #b40426;\n",
              "            color:  #f1f1f1;\n",
              "        }    #T_f0e08730_e8f6_11ea_8dcc_0242ac1c0002row0_col1 {\n",
              "            background-color:  #3b4cc0;\n",
              "            color:  #f1f1f1;\n",
              "        }    #T_f0e08730_e8f6_11ea_8dcc_0242ac1c0002row0_col2 {\n",
              "            background-color:  #7699f6;\n",
              "            color:  #000000;\n",
              "        }    #T_f0e08730_e8f6_11ea_8dcc_0242ac1c0002row0_col3 {\n",
              "            background-color:  #9ebeff;\n",
              "            color:  #000000;\n",
              "        }    #T_f0e08730_e8f6_11ea_8dcc_0242ac1c0002row0_col4 {\n",
              "            background-color:  #9dbdff;\n",
              "            color:  #000000;\n",
              "        }    #T_f0e08730_e8f6_11ea_8dcc_0242ac1c0002row0_col5 {\n",
              "            background-color:  #a1c0ff;\n",
              "            color:  #000000;\n",
              "        }    #T_f0e08730_e8f6_11ea_8dcc_0242ac1c0002row0_col6 {\n",
              "            background-color:  #96b7ff;\n",
              "            color:  #000000;\n",
              "        }    #T_f0e08730_e8f6_11ea_8dcc_0242ac1c0002row0_col7 {\n",
              "            background-color:  #5673e0;\n",
              "            color:  #000000;\n",
              "        }    #T_f0e08730_e8f6_11ea_8dcc_0242ac1c0002row0_col8 {\n",
              "            background-color:  #5470de;\n",
              "            color:  #000000;\n",
              "        }    #T_f0e08730_e8f6_11ea_8dcc_0242ac1c0002row0_col9 {\n",
              "            background-color:  #3b4cc0;\n",
              "            color:  #f1f1f1;\n",
              "        }    #T_f0e08730_e8f6_11ea_8dcc_0242ac1c0002row1_col0 {\n",
              "            background-color:  #3b4cc0;\n",
              "            color:  #f1f1f1;\n",
              "        }    #T_f0e08730_e8f6_11ea_8dcc_0242ac1c0002row1_col1 {\n",
              "            background-color:  #b40426;\n",
              "            color:  #f1f1f1;\n",
              "        }    #T_f0e08730_e8f6_11ea_8dcc_0242ac1c0002row1_col2 {\n",
              "            background-color:  #96b7ff;\n",
              "            color:  #000000;\n",
              "        }    #T_f0e08730_e8f6_11ea_8dcc_0242ac1c0002row1_col3 {\n",
              "            background-color:  #89acfd;\n",
              "            color:  #000000;\n",
              "        }    #T_f0e08730_e8f6_11ea_8dcc_0242ac1c0002row1_col4 {\n",
              "            background-color:  #799cf8;\n",
              "            color:  #000000;\n",
              "        }    #T_f0e08730_e8f6_11ea_8dcc_0242ac1c0002row1_col5 {\n",
              "            background-color:  #688aef;\n",
              "            color:  #000000;\n",
              "        }    #T_f0e08730_e8f6_11ea_8dcc_0242ac1c0002row1_col6 {\n",
              "            background-color:  #7396f5;\n",
              "            color:  #000000;\n",
              "        }    #T_f0e08730_e8f6_11ea_8dcc_0242ac1c0002row1_col7 {\n",
              "            background-color:  #445acc;\n",
              "            color:  #f1f1f1;\n",
              "        }    #T_f0e08730_e8f6_11ea_8dcc_0242ac1c0002row1_col8 {\n",
              "            background-color:  #3b4cc0;\n",
              "            color:  #f1f1f1;\n",
              "        }    #T_f0e08730_e8f6_11ea_8dcc_0242ac1c0002row1_col9 {\n",
              "            background-color:  #bad0f8;\n",
              "            color:  #000000;\n",
              "        }    #T_f0e08730_e8f6_11ea_8dcc_0242ac1c0002row2_col0 {\n",
              "            background-color:  #c7d7f0;\n",
              "            color:  #000000;\n",
              "        }    #T_f0e08730_e8f6_11ea_8dcc_0242ac1c0002row2_col1 {\n",
              "            background-color:  #d9dce1;\n",
              "            color:  #000000;\n",
              "        }    #T_f0e08730_e8f6_11ea_8dcc_0242ac1c0002row2_col2 {\n",
              "            background-color:  #b40426;\n",
              "            color:  #f1f1f1;\n",
              "        }    #T_f0e08730_e8f6_11ea_8dcc_0242ac1c0002row2_col3 {\n",
              "            background-color:  #3b4cc0;\n",
              "            color:  #f1f1f1;\n",
              "        }    #T_f0e08730_e8f6_11ea_8dcc_0242ac1c0002row2_col4 {\n",
              "            background-color:  #3b4cc0;\n",
              "            color:  #f1f1f1;\n",
              "        }    #T_f0e08730_e8f6_11ea_8dcc_0242ac1c0002row2_col5 {\n",
              "            background-color:  #3b4cc0;\n",
              "            color:  #f1f1f1;\n",
              "        }    #T_f0e08730_e8f6_11ea_8dcc_0242ac1c0002row2_col6 {\n",
              "            background-color:  #3b4cc0;\n",
              "            color:  #f1f1f1;\n",
              "        }    #T_f0e08730_e8f6_11ea_8dcc_0242ac1c0002row2_col7 {\n",
              "            background-color:  #3b4cc0;\n",
              "            color:  #f1f1f1;\n",
              "        }    #T_f0e08730_e8f6_11ea_8dcc_0242ac1c0002row2_col8 {\n",
              "            background-color:  #81a4fb;\n",
              "            color:  #000000;\n",
              "        }    #T_f0e08730_e8f6_11ea_8dcc_0242ac1c0002row2_col9 {\n",
              "            background-color:  #a2c1ff;\n",
              "            color:  #000000;\n",
              "        }    #T_f0e08730_e8f6_11ea_8dcc_0242ac1c0002row3_col0 {\n",
              "            background-color:  #dddcdc;\n",
              "            color:  #000000;\n",
              "        }    #T_f0e08730_e8f6_11ea_8dcc_0242ac1c0002row3_col1 {\n",
              "            background-color:  #d3dbe7;\n",
              "            color:  #000000;\n",
              "        }    #T_f0e08730_e8f6_11ea_8dcc_0242ac1c0002row3_col2 {\n",
              "            background-color:  #3b4cc0;\n",
              "            color:  #f1f1f1;\n",
              "        }    #T_f0e08730_e8f6_11ea_8dcc_0242ac1c0002row3_col3 {\n",
              "            background-color:  #b40426;\n",
              "            color:  #f1f1f1;\n",
              "        }    #T_f0e08730_e8f6_11ea_8dcc_0242ac1c0002row3_col4 {\n",
              "            background-color:  #c73635;\n",
              "            color:  #f1f1f1;\n",
              "        }    #T_f0e08730_e8f6_11ea_8dcc_0242ac1c0002row3_col5 {\n",
              "            background-color:  #d95847;\n",
              "            color:  #000000;\n",
              "        }    #T_f0e08730_e8f6_11ea_8dcc_0242ac1c0002row3_col6 {\n",
              "            background-color:  #cb3e38;\n",
              "            color:  #f1f1f1;\n",
              "        }    #T_f0e08730_e8f6_11ea_8dcc_0242ac1c0002row3_col7 {\n",
              "            background-color:  #98b9ff;\n",
              "            color:  #000000;\n",
              "        }    #T_f0e08730_e8f6_11ea_8dcc_0242ac1c0002row3_col8 {\n",
              "            background-color:  #8badfd;\n",
              "            color:  #000000;\n",
              "        }    #T_f0e08730_e8f6_11ea_8dcc_0242ac1c0002row3_col9 {\n",
              "            background-color:  #80a3fa;\n",
              "            color:  #000000;\n",
              "        }    #T_f0e08730_e8f6_11ea_8dcc_0242ac1c0002row4_col0 {\n",
              "            background-color:  #e1dad6;\n",
              "            color:  #000000;\n",
              "        }    #T_f0e08730_e8f6_11ea_8dcc_0242ac1c0002row4_col1 {\n",
              "            background-color:  #cedaeb;\n",
              "            color:  #000000;\n",
              "        }    #T_f0e08730_e8f6_11ea_8dcc_0242ac1c0002row4_col2 {\n",
              "            background-color:  #4358cb;\n",
              "            color:  #f1f1f1;\n",
              "        }    #T_f0e08730_e8f6_11ea_8dcc_0242ac1c0002row4_col3 {\n",
              "            background-color:  #c73635;\n",
              "            color:  #f1f1f1;\n",
              "        }    #T_f0e08730_e8f6_11ea_8dcc_0242ac1c0002row4_col4 {\n",
              "            background-color:  #b40426;\n",
              "            color:  #f1f1f1;\n",
              "        }    #T_f0e08730_e8f6_11ea_8dcc_0242ac1c0002row4_col5 {\n",
              "            background-color:  #d55042;\n",
              "            color:  #000000;\n",
              "        }    #T_f0e08730_e8f6_11ea_8dcc_0242ac1c0002row4_col6 {\n",
              "            background-color:  #b8122a;\n",
              "            color:  #f1f1f1;\n",
              "        }    #T_f0e08730_e8f6_11ea_8dcc_0242ac1c0002row4_col7 {\n",
              "            background-color:  #5977e3;\n",
              "            color:  #000000;\n",
              "        }    #T_f0e08730_e8f6_11ea_8dcc_0242ac1c0002row4_col8 {\n",
              "            background-color:  #7093f3;\n",
              "            color:  #000000;\n",
              "        }    #T_f0e08730_e8f6_11ea_8dcc_0242ac1c0002row4_col9 {\n",
              "            background-color:  #80a3fa;\n",
              "            color:  #000000;\n",
              "        }    #T_f0e08730_e8f6_11ea_8dcc_0242ac1c0002row5_col0 {\n",
              "            background-color:  #e5d8d1;\n",
              "            color:  #000000;\n",
              "        }    #T_f0e08730_e8f6_11ea_8dcc_0242ac1c0002row5_col1 {\n",
              "            background-color:  #c7d7f0;\n",
              "            color:  #000000;\n",
              "        }    #T_f0e08730_e8f6_11ea_8dcc_0242ac1c0002row5_col2 {\n",
              "            background-color:  #4961d2;\n",
              "            color:  #f1f1f1;\n",
              "        }    #T_f0e08730_e8f6_11ea_8dcc_0242ac1c0002row5_col3 {\n",
              "            background-color:  #d75445;\n",
              "            color:  #000000;\n",
              "        }    #T_f0e08730_e8f6_11ea_8dcc_0242ac1c0002row5_col4 {\n",
              "            background-color:  #d44e41;\n",
              "            color:  #000000;\n",
              "        }    #T_f0e08730_e8f6_11ea_8dcc_0242ac1c0002row5_col5 {\n",
              "            background-color:  #b40426;\n",
              "            color:  #f1f1f1;\n",
              "        }    #T_f0e08730_e8f6_11ea_8dcc_0242ac1c0002row5_col6 {\n",
              "            background-color:  #cd423b;\n",
              "            color:  #f1f1f1;\n",
              "        }    #T_f0e08730_e8f6_11ea_8dcc_0242ac1c0002row5_col7 {\n",
              "            background-color:  #5d7ce6;\n",
              "            color:  #000000;\n",
              "        }    #T_f0e08730_e8f6_11ea_8dcc_0242ac1c0002row5_col8 {\n",
              "            background-color:  #5a78e4;\n",
              "            color:  #000000;\n",
              "        }    #T_f0e08730_e8f6_11ea_8dcc_0242ac1c0002row5_col9 {\n",
              "            background-color:  #7093f3;\n",
              "            color:  #000000;\n",
              "        }    #T_f0e08730_e8f6_11ea_8dcc_0242ac1c0002row6_col0 {\n",
              "            background-color:  #dfdbd9;\n",
              "            color:  #000000;\n",
              "        }    #T_f0e08730_e8f6_11ea_8dcc_0242ac1c0002row6_col1 {\n",
              "            background-color:  #cdd9ec;\n",
              "            color:  #000000;\n",
              "        }    #T_f0e08730_e8f6_11ea_8dcc_0242ac1c0002row6_col2 {\n",
              "            background-color:  #465ecf;\n",
              "            color:  #f1f1f1;\n",
              "        }    #T_f0e08730_e8f6_11ea_8dcc_0242ac1c0002row6_col3 {\n",
              "            background-color:  #ca3b37;\n",
              "            color:  #f1f1f1;\n",
              "        }    #T_f0e08730_e8f6_11ea_8dcc_0242ac1c0002row6_col4 {\n",
              "            background-color:  #b8122a;\n",
              "            color:  #f1f1f1;\n",
              "        }    #T_f0e08730_e8f6_11ea_8dcc_0242ac1c0002row6_col5 {\n",
              "            background-color:  #cd423b;\n",
              "            color:  #f1f1f1;\n",
              "        }    #T_f0e08730_e8f6_11ea_8dcc_0242ac1c0002row6_col6 {\n",
              "            background-color:  #b40426;\n",
              "            color:  #f1f1f1;\n",
              "        }    #T_f0e08730_e8f6_11ea_8dcc_0242ac1c0002row6_col7 {\n",
              "            background-color:  #5f7fe8;\n",
              "            color:  #000000;\n",
              "        }    #T_f0e08730_e8f6_11ea_8dcc_0242ac1c0002row6_col8 {\n",
              "            background-color:  #7597f6;\n",
              "            color:  #000000;\n",
              "        }    #T_f0e08730_e8f6_11ea_8dcc_0242ac1c0002row6_col9 {\n",
              "            background-color:  #7ea1fa;\n",
              "            color:  #000000;\n",
              "        }    #T_f0e08730_e8f6_11ea_8dcc_0242ac1c0002row7_col0 {\n",
              "            background-color:  #d5dbe5;\n",
              "            color:  #000000;\n",
              "        }    #T_f0e08730_e8f6_11ea_8dcc_0242ac1c0002row7_col1 {\n",
              "            background-color:  #ccd9ed;\n",
              "            color:  #000000;\n",
              "        }    #T_f0e08730_e8f6_11ea_8dcc_0242ac1c0002row7_col2 {\n",
              "            background-color:  #7396f5;\n",
              "            color:  #000000;\n",
              "        }    #T_f0e08730_e8f6_11ea_8dcc_0242ac1c0002row7_col3 {\n",
              "            background-color:  #c4d5f3;\n",
              "            color:  #000000;\n",
              "        }    #T_f0e08730_e8f6_11ea_8dcc_0242ac1c0002row7_col4 {\n",
              "            background-color:  #88abfd;\n",
              "            color:  #000000;\n",
              "        }    #T_f0e08730_e8f6_11ea_8dcc_0242ac1c0002row7_col5 {\n",
              "            background-color:  #86a9fc;\n",
              "            color:  #000000;\n",
              "        }    #T_f0e08730_e8f6_11ea_8dcc_0242ac1c0002row7_col6 {\n",
              "            background-color:  #8badfd;\n",
              "            color:  #000000;\n",
              "        }    #T_f0e08730_e8f6_11ea_8dcc_0242ac1c0002row7_col7 {\n",
              "            background-color:  #b40426;\n",
              "            color:  #f1f1f1;\n",
              "        }    #T_f0e08730_e8f6_11ea_8dcc_0242ac1c0002row7_col8 {\n",
              "            background-color:  #f6a283;\n",
              "            color:  #000000;\n",
              "        }    #T_f0e08730_e8f6_11ea_8dcc_0242ac1c0002row7_col9 {\n",
              "            background-color:  #80a3fa;\n",
              "            color:  #000000;\n",
              "        }    #T_f0e08730_e8f6_11ea_8dcc_0242ac1c0002row8_col0 {\n",
              "            background-color:  #d1dae9;\n",
              "            color:  #000000;\n",
              "        }    #T_f0e08730_e8f6_11ea_8dcc_0242ac1c0002row8_col1 {\n",
              "            background-color:  #c1d4f4;\n",
              "            color:  #000000;\n",
              "        }    #T_f0e08730_e8f6_11ea_8dcc_0242ac1c0002row8_col2 {\n",
              "            background-color:  #adc9fd;\n",
              "            color:  #000000;\n",
              "        }    #T_f0e08730_e8f6_11ea_8dcc_0242ac1c0002row8_col3 {\n",
              "            background-color:  #b5cdfa;\n",
              "            color:  #000000;\n",
              "        }    #T_f0e08730_e8f6_11ea_8dcc_0242ac1c0002row8_col4 {\n",
              "            background-color:  #97b8ff;\n",
              "            color:  #000000;\n",
              "        }    #T_f0e08730_e8f6_11ea_8dcc_0242ac1c0002row8_col5 {\n",
              "            background-color:  #7ea1fa;\n",
              "            color:  #000000;\n",
              "        }    #T_f0e08730_e8f6_11ea_8dcc_0242ac1c0002row8_col6 {\n",
              "            background-color:  #98b9ff;\n",
              "            color:  #000000;\n",
              "        }    #T_f0e08730_e8f6_11ea_8dcc_0242ac1c0002row8_col7 {\n",
              "            background-color:  #f6a586;\n",
              "            color:  #000000;\n",
              "        }    #T_f0e08730_e8f6_11ea_8dcc_0242ac1c0002row8_col8 {\n",
              "            background-color:  #b40426;\n",
              "            color:  #f1f1f1;\n",
              "        }    #T_f0e08730_e8f6_11ea_8dcc_0242ac1c0002row8_col9 {\n",
              "            background-color:  #9abbff;\n",
              "            color:  #000000;\n",
              "        }    #T_f0e08730_e8f6_11ea_8dcc_0242ac1c0002row9_col0 {\n",
              "            background-color:  #a9c6fd;\n",
              "            color:  #000000;\n",
              "        }    #T_f0e08730_e8f6_11ea_8dcc_0242ac1c0002row9_col1 {\n",
              "            background-color:  #efcebd;\n",
              "            color:  #000000;\n",
              "        }    #T_f0e08730_e8f6_11ea_8dcc_0242ac1c0002row9_col2 {\n",
              "            background-color:  #afcafc;\n",
              "            color:  #000000;\n",
              "        }    #T_f0e08730_e8f6_11ea_8dcc_0242ac1c0002row9_col3 {\n",
              "            background-color:  #8db0fe;\n",
              "            color:  #000000;\n",
              "        }    #T_f0e08730_e8f6_11ea_8dcc_0242ac1c0002row9_col4 {\n",
              "            background-color:  #86a9fc;\n",
              "            color:  #000000;\n",
              "        }    #T_f0e08730_e8f6_11ea_8dcc_0242ac1c0002row9_col5 {\n",
              "            background-color:  #7295f4;\n",
              "            color:  #000000;\n",
              "        }    #T_f0e08730_e8f6_11ea_8dcc_0242ac1c0002row9_col6 {\n",
              "            background-color:  #81a4fb;\n",
              "            color:  #000000;\n",
              "        }    #T_f0e08730_e8f6_11ea_8dcc_0242ac1c0002row9_col7 {\n",
              "            background-color:  #5673e0;\n",
              "            color:  #000000;\n",
              "        }    #T_f0e08730_e8f6_11ea_8dcc_0242ac1c0002row9_col8 {\n",
              "            background-color:  #7a9df8;\n",
              "            color:  #000000;\n",
              "        }    #T_f0e08730_e8f6_11ea_8dcc_0242ac1c0002row9_col9 {\n",
              "            background-color:  #b40426;\n",
              "            color:  #f1f1f1;\n",
              "        }</style><table id=\"T_f0e08730_e8f6_11ea_8dcc_0242ac1c0002\" ><thead>    <tr>        <th class=\"blank level0\" ></th>        <th class=\"col_heading level0 col0\" >longitude</th>        <th class=\"col_heading level0 col1\" >latitude</th>        <th class=\"col_heading level0 col2\" >housing_median_age</th>        <th class=\"col_heading level0 col3\" >total_rooms</th>        <th class=\"col_heading level0 col4\" >total_bedrooms</th>        <th class=\"col_heading level0 col5\" >population</th>        <th class=\"col_heading level0 col6\" >households</th>        <th class=\"col_heading level0 col7\" >median_income</th>        <th class=\"col_heading level0 col8\" >median_house_value</th>        <th class=\"col_heading level0 col9\" >ocean_proximity</th>    </tr></thead><tbody>\n",
              "                <tr>\n",
              "                        <th id=\"T_f0e08730_e8f6_11ea_8dcc_0242ac1c0002level0_row0\" class=\"row_heading level0 row0\" >longitude</th>\n",
              "                        <td id=\"T_f0e08730_e8f6_11ea_8dcc_0242ac1c0002row0_col0\" class=\"data row0 col0\" >1.000000</td>\n",
              "                        <td id=\"T_f0e08730_e8f6_11ea_8dcc_0242ac1c0002row0_col1\" class=\"data row0 col1\" >-0.924664</td>\n",
              "                        <td id=\"T_f0e08730_e8f6_11ea_8dcc_0242ac1c0002row0_col2\" class=\"data row0 col2\" >-0.108197</td>\n",
              "                        <td id=\"T_f0e08730_e8f6_11ea_8dcc_0242ac1c0002row0_col3\" class=\"data row0 col3\" >0.044568</td>\n",
              "                        <td id=\"T_f0e08730_e8f6_11ea_8dcc_0242ac1c0002row0_col4\" class=\"data row0 col4\" >0.069608</td>\n",
              "                        <td id=\"T_f0e08730_e8f6_11ea_8dcc_0242ac1c0002row0_col5\" class=\"data row0 col5\" >0.099773</td>\n",
              "                        <td id=\"T_f0e08730_e8f6_11ea_8dcc_0242ac1c0002row0_col6\" class=\"data row0 col6\" >0.055310</td>\n",
              "                        <td id=\"T_f0e08730_e8f6_11ea_8dcc_0242ac1c0002row0_col7\" class=\"data row0 col7\" >-0.015176</td>\n",
              "                        <td id=\"T_f0e08730_e8f6_11ea_8dcc_0242ac1c0002row0_col8\" class=\"data row0 col8\" >-0.045967</td>\n",
              "                        <td id=\"T_f0e08730_e8f6_11ea_8dcc_0242ac1c0002row0_col9\" class=\"data row0 col9\" >-0.289779</td>\n",
              "            </tr>\n",
              "            <tr>\n",
              "                        <th id=\"T_f0e08730_e8f6_11ea_8dcc_0242ac1c0002level0_row1\" class=\"row_heading level0 row1\" >latitude</th>\n",
              "                        <td id=\"T_f0e08730_e8f6_11ea_8dcc_0242ac1c0002row1_col0\" class=\"data row1 col0\" >-0.924664</td>\n",
              "                        <td id=\"T_f0e08730_e8f6_11ea_8dcc_0242ac1c0002row1_col1\" class=\"data row1 col1\" >1.000000</td>\n",
              "                        <td id=\"T_f0e08730_e8f6_11ea_8dcc_0242ac1c0002row1_col2\" class=\"data row1 col2\" >0.011173</td>\n",
              "                        <td id=\"T_f0e08730_e8f6_11ea_8dcc_0242ac1c0002row1_col3\" class=\"data row1 col3\" >-0.036100</td>\n",
              "                        <td id=\"T_f0e08730_e8f6_11ea_8dcc_0242ac1c0002row1_col4\" class=\"data row1 col4\" >-0.066983</td>\n",
              "                        <td id=\"T_f0e08730_e8f6_11ea_8dcc_0242ac1c0002row1_col5\" class=\"data row1 col5\" >-0.108785</td>\n",
              "                        <td id=\"T_f0e08730_e8f6_11ea_8dcc_0242ac1c0002row1_col6\" class=\"data row1 col6\" >-0.071035</td>\n",
              "                        <td id=\"T_f0e08730_e8f6_11ea_8dcc_0242ac1c0002row1_col7\" class=\"data row1 col7\" >-0.079809</td>\n",
              "                        <td id=\"T_f0e08730_e8f6_11ea_8dcc_0242ac1c0002row1_col8\" class=\"data row1 col8\" >-0.144160</td>\n",
              "                        <td id=\"T_f0e08730_e8f6_11ea_8dcc_0242ac1c0002row1_col9\" class=\"data row1 col9\" >0.200974</td>\n",
              "            </tr>\n",
              "            <tr>\n",
              "                        <th id=\"T_f0e08730_e8f6_11ea_8dcc_0242ac1c0002level0_row2\" class=\"row_heading level0 row2\" >housing_median_age</th>\n",
              "                        <td id=\"T_f0e08730_e8f6_11ea_8dcc_0242ac1c0002row2_col0\" class=\"data row2 col0\" >-0.108197</td>\n",
              "                        <td id=\"T_f0e08730_e8f6_11ea_8dcc_0242ac1c0002row2_col1\" class=\"data row2 col1\" >0.011173</td>\n",
              "                        <td id=\"T_f0e08730_e8f6_11ea_8dcc_0242ac1c0002row2_col2\" class=\"data row2 col2\" >1.000000</td>\n",
              "                        <td id=\"T_f0e08730_e8f6_11ea_8dcc_0242ac1c0002row2_col3\" class=\"data row2 col3\" >-0.361262</td>\n",
              "                        <td id=\"T_f0e08730_e8f6_11ea_8dcc_0242ac1c0002row2_col4\" class=\"data row2 col4\" >-0.320451</td>\n",
              "                        <td id=\"T_f0e08730_e8f6_11ea_8dcc_0242ac1c0002row2_col5\" class=\"data row2 col5\" >-0.296244</td>\n",
              "                        <td id=\"T_f0e08730_e8f6_11ea_8dcc_0242ac1c0002row2_col6\" class=\"data row2 col6\" >-0.302916</td>\n",
              "                        <td id=\"T_f0e08730_e8f6_11ea_8dcc_0242ac1c0002row2_col7\" class=\"data row2 col7\" >-0.119034</td>\n",
              "                        <td id=\"T_f0e08730_e8f6_11ea_8dcc_0242ac1c0002row2_col8\" class=\"data row2 col8\" >0.105623</td>\n",
              "                        <td id=\"T_f0e08730_e8f6_11ea_8dcc_0242ac1c0002row2_col9\" class=\"data row2 col9\" >0.112468</td>\n",
              "            </tr>\n",
              "            <tr>\n",
              "                        <th id=\"T_f0e08730_e8f6_11ea_8dcc_0242ac1c0002level0_row3\" class=\"row_heading level0 row3\" >total_rooms</th>\n",
              "                        <td id=\"T_f0e08730_e8f6_11ea_8dcc_0242ac1c0002row3_col0\" class=\"data row3 col0\" >0.044568</td>\n",
              "                        <td id=\"T_f0e08730_e8f6_11ea_8dcc_0242ac1c0002row3_col1\" class=\"data row3 col1\" >-0.036100</td>\n",
              "                        <td id=\"T_f0e08730_e8f6_11ea_8dcc_0242ac1c0002row3_col2\" class=\"data row3 col2\" >-0.361262</td>\n",
              "                        <td id=\"T_f0e08730_e8f6_11ea_8dcc_0242ac1c0002row3_col3\" class=\"data row3 col3\" >1.000000</td>\n",
              "                        <td id=\"T_f0e08730_e8f6_11ea_8dcc_0242ac1c0002row3_col4\" class=\"data row3 col4\" >0.930380</td>\n",
              "                        <td id=\"T_f0e08730_e8f6_11ea_8dcc_0242ac1c0002row3_col5\" class=\"data row3 col5\" >0.857126</td>\n",
              "                        <td id=\"T_f0e08730_e8f6_11ea_8dcc_0242ac1c0002row3_col6\" class=\"data row3 col6\" >0.918484</td>\n",
              "                        <td id=\"T_f0e08730_e8f6_11ea_8dcc_0242ac1c0002row3_col7\" class=\"data row3 col7\" >0.198050</td>\n",
              "                        <td id=\"T_f0e08730_e8f6_11ea_8dcc_0242ac1c0002row3_col8\" class=\"data row3 col8\" >0.134153</td>\n",
              "                        <td id=\"T_f0e08730_e8f6_11ea_8dcc_0242ac1c0002row3_col9\" class=\"data row3 col9\" >-0.015693</td>\n",
              "            </tr>\n",
              "            <tr>\n",
              "                        <th id=\"T_f0e08730_e8f6_11ea_8dcc_0242ac1c0002level0_row4\" class=\"row_heading level0 row4\" >total_bedrooms</th>\n",
              "                        <td id=\"T_f0e08730_e8f6_11ea_8dcc_0242ac1c0002row4_col0\" class=\"data row4 col0\" >0.069608</td>\n",
              "                        <td id=\"T_f0e08730_e8f6_11ea_8dcc_0242ac1c0002row4_col1\" class=\"data row4 col1\" >-0.066983</td>\n",
              "                        <td id=\"T_f0e08730_e8f6_11ea_8dcc_0242ac1c0002row4_col2\" class=\"data row4 col2\" >-0.320451</td>\n",
              "                        <td id=\"T_f0e08730_e8f6_11ea_8dcc_0242ac1c0002row4_col3\" class=\"data row4 col3\" >0.930380</td>\n",
              "                        <td id=\"T_f0e08730_e8f6_11ea_8dcc_0242ac1c0002row4_col4\" class=\"data row4 col4\" >1.000000</td>\n",
              "                        <td id=\"T_f0e08730_e8f6_11ea_8dcc_0242ac1c0002row4_col5\" class=\"data row4 col5\" >0.877747</td>\n",
              "                        <td id=\"T_f0e08730_e8f6_11ea_8dcc_0242ac1c0002row4_col6\" class=\"data row4 col6\" >0.979728</td>\n",
              "                        <td id=\"T_f0e08730_e8f6_11ea_8dcc_0242ac1c0002row4_col7\" class=\"data row4 col7\" >-0.007723</td>\n",
              "                        <td id=\"T_f0e08730_e8f6_11ea_8dcc_0242ac1c0002row4_col8\" class=\"data row4 col8\" >0.049686</td>\n",
              "                        <td id=\"T_f0e08730_e8f6_11ea_8dcc_0242ac1c0002row4_col9\" class=\"data row4 col9\" >-0.014768</td>\n",
              "            </tr>\n",
              "            <tr>\n",
              "                        <th id=\"T_f0e08730_e8f6_11ea_8dcc_0242ac1c0002level0_row5\" class=\"row_heading level0 row5\" >population</th>\n",
              "                        <td id=\"T_f0e08730_e8f6_11ea_8dcc_0242ac1c0002row5_col0\" class=\"data row5 col0\" >0.099773</td>\n",
              "                        <td id=\"T_f0e08730_e8f6_11ea_8dcc_0242ac1c0002row5_col1\" class=\"data row5 col1\" >-0.108785</td>\n",
              "                        <td id=\"T_f0e08730_e8f6_11ea_8dcc_0242ac1c0002row5_col2\" class=\"data row5 col2\" >-0.296244</td>\n",
              "                        <td id=\"T_f0e08730_e8f6_11ea_8dcc_0242ac1c0002row5_col3\" class=\"data row5 col3\" >0.857126</td>\n",
              "                        <td id=\"T_f0e08730_e8f6_11ea_8dcc_0242ac1c0002row5_col4\" class=\"data row5 col4\" >0.877747</td>\n",
              "                        <td id=\"T_f0e08730_e8f6_11ea_8dcc_0242ac1c0002row5_col5\" class=\"data row5 col5\" >1.000000</td>\n",
              "                        <td id=\"T_f0e08730_e8f6_11ea_8dcc_0242ac1c0002row5_col6\" class=\"data row5 col6\" >0.907222</td>\n",
              "                        <td id=\"T_f0e08730_e8f6_11ea_8dcc_0242ac1c0002row5_col7\" class=\"data row5 col7\" >0.004834</td>\n",
              "                        <td id=\"T_f0e08730_e8f6_11ea_8dcc_0242ac1c0002row5_col8\" class=\"data row5 col8\" >-0.024650</td>\n",
              "                        <td id=\"T_f0e08730_e8f6_11ea_8dcc_0242ac1c0002row5_col9\" class=\"data row5 col9\" >-0.070282</td>\n",
              "            </tr>\n",
              "            <tr>\n",
              "                        <th id=\"T_f0e08730_e8f6_11ea_8dcc_0242ac1c0002level0_row6\" class=\"row_heading level0 row6\" >households</th>\n",
              "                        <td id=\"T_f0e08730_e8f6_11ea_8dcc_0242ac1c0002row6_col0\" class=\"data row6 col0\" >0.055310</td>\n",
              "                        <td id=\"T_f0e08730_e8f6_11ea_8dcc_0242ac1c0002row6_col1\" class=\"data row6 col1\" >-0.071035</td>\n",
              "                        <td id=\"T_f0e08730_e8f6_11ea_8dcc_0242ac1c0002row6_col2\" class=\"data row6 col2\" >-0.302916</td>\n",
              "                        <td id=\"T_f0e08730_e8f6_11ea_8dcc_0242ac1c0002row6_col3\" class=\"data row6 col3\" >0.918484</td>\n",
              "                        <td id=\"T_f0e08730_e8f6_11ea_8dcc_0242ac1c0002row6_col4\" class=\"data row6 col4\" >0.979728</td>\n",
              "                        <td id=\"T_f0e08730_e8f6_11ea_8dcc_0242ac1c0002row6_col5\" class=\"data row6 col5\" >0.907222</td>\n",
              "                        <td id=\"T_f0e08730_e8f6_11ea_8dcc_0242ac1c0002row6_col6\" class=\"data row6 col6\" >1.000000</td>\n",
              "                        <td id=\"T_f0e08730_e8f6_11ea_8dcc_0242ac1c0002row6_col7\" class=\"data row6 col7\" >0.013033</td>\n",
              "                        <td id=\"T_f0e08730_e8f6_11ea_8dcc_0242ac1c0002row6_col8\" class=\"data row6 col8\" >0.065843</td>\n",
              "                        <td id=\"T_f0e08730_e8f6_11ea_8dcc_0242ac1c0002row6_col9\" class=\"data row6 col9\" >-0.018186</td>\n",
              "            </tr>\n",
              "            <tr>\n",
              "                        <th id=\"T_f0e08730_e8f6_11ea_8dcc_0242ac1c0002level0_row7\" class=\"row_heading level0 row7\" >median_income</th>\n",
              "                        <td id=\"T_f0e08730_e8f6_11ea_8dcc_0242ac1c0002row7_col0\" class=\"data row7 col0\" >-0.015176</td>\n",
              "                        <td id=\"T_f0e08730_e8f6_11ea_8dcc_0242ac1c0002row7_col1\" class=\"data row7 col1\" >-0.079809</td>\n",
              "                        <td id=\"T_f0e08730_e8f6_11ea_8dcc_0242ac1c0002row7_col2\" class=\"data row7 col2\" >-0.119034</td>\n",
              "                        <td id=\"T_f0e08730_e8f6_11ea_8dcc_0242ac1c0002row7_col3\" class=\"data row7 col3\" >0.198050</td>\n",
              "                        <td id=\"T_f0e08730_e8f6_11ea_8dcc_0242ac1c0002row7_col4\" class=\"data row7 col4\" >-0.007723</td>\n",
              "                        <td id=\"T_f0e08730_e8f6_11ea_8dcc_0242ac1c0002row7_col5\" class=\"data row7 col5\" >0.004834</td>\n",
              "                        <td id=\"T_f0e08730_e8f6_11ea_8dcc_0242ac1c0002row7_col6\" class=\"data row7 col6\" >0.013033</td>\n",
              "                        <td id=\"T_f0e08730_e8f6_11ea_8dcc_0242ac1c0002row7_col7\" class=\"data row7 col7\" >1.000000</td>\n",
              "                        <td id=\"T_f0e08730_e8f6_11ea_8dcc_0242ac1c0002row7_col8\" class=\"data row7 col8\" >0.688075</td>\n",
              "                        <td id=\"T_f0e08730_e8f6_11ea_8dcc_0242ac1c0002row7_col9\" class=\"data row7 col9\" >-0.014957</td>\n",
              "            </tr>\n",
              "            <tr>\n",
              "                        <th id=\"T_f0e08730_e8f6_11ea_8dcc_0242ac1c0002level0_row8\" class=\"row_heading level0 row8\" >median_house_value</th>\n",
              "                        <td id=\"T_f0e08730_e8f6_11ea_8dcc_0242ac1c0002row8_col0\" class=\"data row8 col0\" >-0.045967</td>\n",
              "                        <td id=\"T_f0e08730_e8f6_11ea_8dcc_0242ac1c0002row8_col1\" class=\"data row8 col1\" >-0.144160</td>\n",
              "                        <td id=\"T_f0e08730_e8f6_11ea_8dcc_0242ac1c0002row8_col2\" class=\"data row8 col2\" >0.105623</td>\n",
              "                        <td id=\"T_f0e08730_e8f6_11ea_8dcc_0242ac1c0002row8_col3\" class=\"data row8 col3\" >0.134153</td>\n",
              "                        <td id=\"T_f0e08730_e8f6_11ea_8dcc_0242ac1c0002row8_col4\" class=\"data row8 col4\" >0.049686</td>\n",
              "                        <td id=\"T_f0e08730_e8f6_11ea_8dcc_0242ac1c0002row8_col5\" class=\"data row8 col5\" >-0.024650</td>\n",
              "                        <td id=\"T_f0e08730_e8f6_11ea_8dcc_0242ac1c0002row8_col6\" class=\"data row8 col6\" >0.065843</td>\n",
              "                        <td id=\"T_f0e08730_e8f6_11ea_8dcc_0242ac1c0002row8_col7\" class=\"data row8 col7\" >0.688075</td>\n",
              "                        <td id=\"T_f0e08730_e8f6_11ea_8dcc_0242ac1c0002row8_col8\" class=\"data row8 col8\" >1.000000</td>\n",
              "                        <td id=\"T_f0e08730_e8f6_11ea_8dcc_0242ac1c0002row8_col9\" class=\"data row8 col9\" >0.081750</td>\n",
              "            </tr>\n",
              "            <tr>\n",
              "                        <th id=\"T_f0e08730_e8f6_11ea_8dcc_0242ac1c0002level0_row9\" class=\"row_heading level0 row9\" >ocean_proximity</th>\n",
              "                        <td id=\"T_f0e08730_e8f6_11ea_8dcc_0242ac1c0002row9_col0\" class=\"data row9 col0\" >-0.289779</td>\n",
              "                        <td id=\"T_f0e08730_e8f6_11ea_8dcc_0242ac1c0002row9_col1\" class=\"data row9 col1\" >0.200974</td>\n",
              "                        <td id=\"T_f0e08730_e8f6_11ea_8dcc_0242ac1c0002row9_col2\" class=\"data row9 col2\" >0.112468</td>\n",
              "                        <td id=\"T_f0e08730_e8f6_11ea_8dcc_0242ac1c0002row9_col3\" class=\"data row9 col3\" >-0.015693</td>\n",
              "                        <td id=\"T_f0e08730_e8f6_11ea_8dcc_0242ac1c0002row9_col4\" class=\"data row9 col4\" >-0.014768</td>\n",
              "                        <td id=\"T_f0e08730_e8f6_11ea_8dcc_0242ac1c0002row9_col5\" class=\"data row9 col5\" >-0.070282</td>\n",
              "                        <td id=\"T_f0e08730_e8f6_11ea_8dcc_0242ac1c0002row9_col6\" class=\"data row9 col6\" >-0.018186</td>\n",
              "                        <td id=\"T_f0e08730_e8f6_11ea_8dcc_0242ac1c0002row9_col7\" class=\"data row9 col7\" >-0.014957</td>\n",
              "                        <td id=\"T_f0e08730_e8f6_11ea_8dcc_0242ac1c0002row9_col8\" class=\"data row9 col8\" >0.081750</td>\n",
              "                        <td id=\"T_f0e08730_e8f6_11ea_8dcc_0242ac1c0002row9_col9\" class=\"data row9 col9\" >1.000000</td>\n",
              "            </tr>\n",
              "    </tbody></table>"
            ],
            "text/plain": [
              "<pandas.io.formats.style.Styler at 0x7f770d4d7518>"
            ]
          },
          "metadata": {
            "tags": []
          },
          "execution_count": 22
        }
      ]
    },
    {
      "cell_type": "code",
      "metadata": {
        "id": "fsfwKpa1N4mE",
        "colab_type": "code",
        "colab": {
          "base_uri": "https://localhost:8080/",
          "height": 85
        },
        "outputId": "def736c0-b6af-468d-d830-48a5c74c6a1e"
      },
      "source": [
        "df.columns"
      ],
      "execution_count": null,
      "outputs": [
        {
          "output_type": "execute_result",
          "data": {
            "text/plain": [
              "Index(['longitude', 'latitude', 'housing_median_age', 'total_rooms',\n",
              "       'total_bedrooms', 'population', 'households', 'median_income',\n",
              "       'median_house_value', 'ocean_proximity'],\n",
              "      dtype='object')"
            ]
          },
          "metadata": {
            "tags": []
          },
          "execution_count": 23
        }
      ]
    },
    {
      "cell_type": "code",
      "metadata": {
        "id": "K-P7D9_dB9p-",
        "colab_type": "code",
        "colab": {}
      },
      "source": [
        "#split data into training and testing data\n",
        "from sklearn.model_selection import train_test_split\n",
        "\n",
        "X = df.drop(['median_house_value','ocean_proximity'], axis=1)\n",
        "# X= X.fillna(0)\n",
        "X= X.fillna(X.mean())\n",
        "# x= preprocessing.normalize(X)\n",
        "\n",
        "y = df['median_house_value']\n",
        "\n",
        "\n",
        "original_Xtrain, original_Xtest, original_ytrain, original_ytest = train_test_split(X, y, test_size=0.2, random_state=42)"
      ],
      "execution_count": null,
      "outputs": []
    },
    {
      "cell_type": "code",
      "metadata": {
        "id": "32ofHl13N3Vb",
        "colab_type": "code",
        "colab": {}
      },
      "source": [
        ""
      ],
      "execution_count": null,
      "outputs": []
    },
    {
      "cell_type": "code",
      "metadata": {
        "id": "KRyO2ZEZFA7_",
        "colab_type": "code",
        "colab": {}
      },
      "source": [
        "from sklearn.linear_model import LinearRegression\n",
        "\n",
        "clf = LinearRegression().fit(original_Xtrain, original_ytrain)\n",
        "pred = clf.predict(original_Xtest)\n"
      ],
      "execution_count": null,
      "outputs": []
    },
    {
      "cell_type": "code",
      "metadata": {
        "id": "ZAF7J6i-HBQI",
        "colab_type": "code",
        "colab": {
          "base_uri": "https://localhost:8080/",
          "height": 34
        },
        "outputId": "5ba9d1c3-32e9-430a-e6bd-27297bec25ec"
      },
      "source": [
        "from sklearn.metrics import mean_squared_error,r2_score\n",
        "\n",
        "r2_score(original_ytest.to_numpy(), pred)"
      ],
      "execution_count": null,
      "outputs": [
        {
          "output_type": "execute_result",
          "data": {
            "text/plain": [
              "0.6143987268246052"
            ]
          },
          "metadata": {
            "tags": []
          },
          "execution_count": 27
        }
      ]
    },
    {
      "cell_type": "code",
      "metadata": {
        "id": "YVszMBt9eE5G",
        "colab_type": "code",
        "colab": {
          "base_uri": "https://localhost:8080/",
          "height": 282
        },
        "outputId": "0e5cec68-588a-4373-84f5-3829efdfcc1f"
      },
      "source": [
        "plt.plot(original_ytest, pred, '.')"
      ],
      "execution_count": null,
      "outputs": [
        {
          "output_type": "execute_result",
          "data": {
            "text/plain": [
              "[<matplotlib.lines.Line2D at 0x7f770a966908>]"
            ]
          },
          "metadata": {
            "tags": []
          },
          "execution_count": 28
        },
        {
          "output_type": "display_data",
          "data": {
            "image/png": "[encoded data removed]",
            "text/plain": [
              "<Figure size 432x288 with 1 Axes>"
            ]
          },
          "metadata": {
            "tags": [],
            "needs_background": "light"
          }
        }
      ]
    },
    {
      "cell_type": "code",
      "metadata": {
        "id": "Jkb3SAVXjbco",
        "colab_type": "code",
        "colab": {
          "base_uri": "https://localhost:8080/",
          "height": 34
        },
        "outputId": "1defbfe3-0b56-43b8-9547-e24ca574f3df"
      },
      "source": [
        "# try a decision tree regression\n",
        "# try a random forest\n",
        "# try an support vector regresssor\n",
        "\n",
        "from sklearn.tree import DecisionTreeRegressor\n",
        "dtr = DecisionTreeRegressor(random_state=0).fit(original_Xtrain, original_ytrain)\n",
        "pred = dtr.predict(original_Xtest)\n",
        "\n",
        "from sklearn.metrics import r2_score\n",
        "\n",
        "r2_score(original_ytest.to_numpy(), pred)"
      ],
      "execution_count": null,
      "outputs": [
        {
          "output_type": "execute_result",
          "data": {
            "text/plain": [
              "0.6375772782995022"
            ]
          },
          "metadata": {
            "tags": []
          },
          "execution_count": 29
        }
      ]
    },
    {
      "cell_type": "code",
      "metadata": {
        "id": "KFZbvYG2Z20Y",
        "colab_type": "code",
        "colab": {
          "base_uri": "https://localhost:8080/",
          "height": 34
        },
        "outputId": "e06b5546-db7a-47f5-db07-7ab4d0a10a65"
      },
      "source": [
        "from sklearn.ensemble import RandomForestRegressor\n",
        "rfr = RandomForestRegressor(random_state=0).fit(original_Xtrain, original_ytrain)\n",
        "# max_depth=2, random_state=0\n",
        "pred = rfr.predict(original_Xtest)\n",
        "\n",
        "from sklearn.metrics import r2_score\n",
        "\n",
        "r2_score(original_ytest.to_numpy(), pred)\n"
      ],
      "execution_count": null,
      "outputs": [
        {
          "output_type": "execute_result",
          "data": {
            "text/plain": [
              "0.8108736043187332"
            ]
          },
          "metadata": {
            "tags": []
          },
          "execution_count": 30
        }
      ]
    }
  ]
}